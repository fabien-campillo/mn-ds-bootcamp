{
 "cells": [
  {
   "cell_type": "markdown",
   "id": "622e8513-d67f-4e7f-b90b-aaa2aebbfed1",
   "metadata": {},
   "source": [
    "# Ressources et références"
   ]
  },
  {
   "cell_type": "markdown",
   "id": "82bf3172-50df-49ed-a2e8-607292887b93",
   "metadata": {},
   "source": [
    "## Des livres généralistes\n",
    "\n",
    "- **Practical Statistics for Data Scientists 50+ Essential Concepts Using R and Python** (2nd edition) de Peter Bruce, Andrew Bruce, Peter Gedeck, 2020, chez  [O'Reilly](https://www.oreilly.com/library/view/practical-statistics-for/9781492072935/) (le pdf est présent [là](https://datapot.vn/wp-content/uploads/2023/12/datapot.vn-Practical-Statistics-for-Data-Scientists.pdf?srsltid=AfmBOor2LKFBkMvD-uXBWafjjdIzgkmChIvrE0HZewfybjWaFiyVyt7k))\n",
    "\n",
    "- **Python for Probability, Statistics, and Machine Learning** Third Edition de José Unpingco, 2022, chez [Springer](https://link.springer.com/book/10.1007/978-3-031-04648-3). That textbook uses MATLAB to analyze examples of neuronal data. The material here is similar, except that we use Python.\n",
    "\n",
    "- Deep Learning with TensorFlow, Keras, and PyTorch\n",
    "[git](https://github.com/jonkrohn/DLTFpT) [Deep Learning Illustrated](https://www.deeplearningillustrated.com)\n",
    " \n"
   ]
  },
  {
   "cell_type": "markdown",
   "id": "803baf4f-9de1-4a18-8308-a5a3e997b6fb",
   "metadata": {},
   "source": [
    "## Des `jupyter book`s\n",
    "\n",
    "- [https://neuraldatascience.io/](https://neuraldatascience.io/) fait par [Aaron J. Newman](https://www.dal.ca/faculty/science/psychology_neuroscience/faculty-staff/our-faculty/aaron-newman.html) du [NeuroCognitive Imaging Lab](https://www.ncilab.ca) (Dalhousie University in Halifax)."
   ]
  },
  {
   "cell_type": "markdown",
   "id": "ffc27a4a-9804-438e-84e2-bb5dd4e8ef34",
   "metadata": {},
   "source": [
    "### Analyse de trains de spikes et de mesures d'électrophysio\n",
    "\n",
    "- le Ch 8 'BasicVisualizationsand DescriptiveStatisticsof SpikeTrainData' de ce [livre](https://mitpress.ublish.com/book/case-studies-neural-data-analysis) avec ce [`jupyter book`](https://mark-kramer.github.io/Case-Studies-Python/intro.html)\n",
    "\n",
    "\n",
    "des outils [pynapple](https://pynapple.org): python neural analysis package\n",
    "\n",
    "[osl-ephys](https://osl-ephys.readthedocs.io/en/latest/)\n",
    "Papier [osl-ephys: a Python toolbox for the analysis of electrophysiology data](https://www.frontiersin.org/journals/neuroscience/articles/10.3389/fnins.2025.1522675/full) [à voir ce git](https://github.com/OHBA-analysis/OHBA-Examples/tree/main)\n",
    "\n",
    "\n",
    "encore un [papier](https://www.frontiersin.org/journals/neuroinformatics/articles/10.3389/fninf.2024.1448161/full) Systems Neuroscience Computing in Python (SyNCoPy)\n",
    "\n",
    "muller2015b: Python in neuroscience\n",
    "E. Muller, J. A. Bednar, M. Diesmann, M.-O. Gewaltig, M. Hines, and A. P. Davison\n",
    "Frontiers in Neuroinformatics, 9, 2015\n",
    "\n",
    "\n",
    "suivre ce gars: [Christophe Pouzat](https://xtof.perso.math.cnrs.fr) son [github](https://github.com/christophe-pouzat), son [gitlab](https://gitlab.com/c_pouzat), son [plmlab](https://plmlab.math.cnrs.fr/xtof), il pointe des datasets:\n",
    "\n",
    "Tetrode recording from the antennal lobe of a locust (Schistocerca americana) (doi: 10.5281/zenodo.14607).\n",
    "Dataset from \"Matthieu Delescluse and Christophe Pouzat (2006) Efficient spike-sorting of multi-state neurons using inter-spike intervals information Journal of Neuroscience Methods 150: 16-29.\" (doi: 10.5281/zenodo.15228).\n",
    "Data set from Pouzat and Chaffiol (2009) Journal of Neuroscience Methods 181:119.(doi: 10.5281/zenodo.14281).\n",
    "All my postdoc extracellular recordings from the locust olfactory pathway are now available –a third of the data has been lost due to CD corruption after 14 years!– (doi: 10.5281/zenodo.21589). There are roughly 15 GB of data from 14 experiments. A detailed description of the sorting of these data set is available on GitHub. du même voir aussi [Probabilistic Spiking Neuronal Nets: Companion](https://probabilistic-spiking-neuronal-nets-c-pouzat-491a1ca82ffec5679d.gitlab.io/index.html)"
   ]
  },
  {
   "cell_type": "code",
   "execution_count": null,
   "id": "d28df041-952c-4c64-a257-2e3780f89ef4",
   "metadata": {},
   "outputs": [],
   "source": []
  }
 ],
 "metadata": {
  "kernelspec": {
   "display_name": "Python 3 (ipykernel)",
   "language": "python",
   "name": "python3"
  },
  "language_info": {
   "codemirror_mode": {
    "name": "ipython",
    "version": 3
   },
   "file_extension": ".py",
   "mimetype": "text/x-python",
   "name": "python",
   "nbconvert_exporter": "python",
   "pygments_lexer": "ipython3",
   "version": "3.13.7"
  }
 },
 "nbformat": 4,
 "nbformat_minor": 5
}
