{
 "cells": [
  {
   "cell_type": "markdown",
   "id": "622e8513-d67f-4e7f-b90b-aaa2aebbfed1",
   "metadata": {},
   "source": [
    "# Ressources et références"
   ]
  },
  {
   "cell_type": "markdown",
   "id": "82bf3172-50df-49ed-a2e8-607292887b93",
   "metadata": {},
   "source": [
    "## Généralistes\n",
    "\n",
    "- **Practical Statistics for Data Scientists 50+ Essential Concepts Using R and Python** (2nd edition) Peter Bruce, Andrew Bruce, Peter Gedeck, 2020 [[lien](https://www.oreilly.com/library/view/practical-statistics-for/9781492072935/), [pdf](https://datapot.vn/wp-content/uploads/2023/12/datapot.vn-Practical-Statistics-for-Data-Scientists.pdf?srsltid=AfmBOor2LKFBkMvD-uXBWafjjdIzgkmChIvrE0HZewfybjWaFiyVyt7k)]\n",
    "\n",
    "- **Python for Probability, Statistics, and Machine Learning** Third Edition de José Unpingco, 2022,  [[lien](https://link.springer.com/book/10.1007/978-3-031-04648-3)]. Getting Started with Scientific Python •  Probability • Statistics • Machine Learning\n",
    "\n",
    "- **Deep Learning with TensorFlow, Keras, and PyTorch** de  [Jon Krohn](https://www.jonkrohn.com) [[git](https://github.com/jonkrohn/DLTFpT), il a des vidéos essentiellement payantes], il a un livre associé au git:  [Deep Learning Illustrated](https://www.deeplearningillustrated.com), **il faut aussi de la muscu, bof bof**\n",
    "\n"
   ]
  },
  {
   "cell_type": "markdown",
   "id": "445d01ef-4bcb-49fa-aeb2-e257ae4fb87c",
   "metadata": {},
   "source": [
    "En plus du Python de base, de scipy, numpy et de matplotlib, il faut connaitre:\n",
    "\n",
    "- [Pandas](https://pandas.pydata.org)\n",
    "- [statsmodels](https://www.statsmodels.org/stable/index.html)  a Python module that provides classes and functions for the estimation of many different statistical models, as well as for conducting statistical tests, and statistical data exploration.\n",
    "- [Scikit-learn](https://scikit-learn.org/stable/) open source project, one of the most used machine learning (ML) library\n",
    "- au delà:\n",
    "    - [NLTK](https://www.nltk.org)  leading platform for building Python programs to work with human language data\n",
    "    - [Gensim](https://radimrehurek.com/gensim/intro.html)   bibliothèque logicielle Python de [topic modelling](https://fr.wikipedia.org/wiki/Topic_model)\n",
    "    - [SPacy](https://spacy.io) une des principales bibliothèques du langage Python pour le Traitement Naturel du Langage (NLP).\n",
    "    - [BeautifulSoup](https://beautiful-soup-4.readthedocs.io/en/latest/)  est une librairie pour extraire des données de fichiers HTML.\n",
    "- au dela de matplotlib:\n",
    "    - [Seaborn](https://seaborn.pydata.org) statistical data visualization\n",
    "    - [Plotly](https://plotly.com/python/) open source graphing library for Python"
   ]
  },
  {
   "cell_type": "markdown",
   "id": "21876a78-0c61-4309-8266-a227b2b6a67e",
   "metadata": {},
   "source": [
    "## Neurosciences \n",
    "\n",
    "Même si on s'intéresse principalement au traitement de mesures d'électophysiologie de type spikes, on va tenter un survol des ressources en neurosciences.\n",
    "\n",
    "On va s'intéresse au traitement de mesures d'électrophyliologie, on fera la différence entre:\n",
    "\n",
    "- les données de types M/EEG, non-invasives/extracrânienne,\n",
    "- et les données invasives au niveau du neurone seul, au d'une population de neurones notamment à l'aide de MEA (Multi-Electrode Array)\n",
    "\n",
    "**C'est cette deuxième catégorie, qu'on appellera \"électrophysiologie directe\", qui nous (MathNeuro) intéresse le plus**. Le première catégorie est très dévelopée.\n",
    "\n",
    "Le traitement des données électrophysiologiques extracrâniennes (EEG/MEG) est généralement plus complexe que celui des mesures intracrâniennes (spikes, LFP, ECoG). En intracrânien, les électrodes sont proches des neurones : le signal est plus localisé, avec un meilleur rapport signal/bruit, ce qui facilite l’identification des potentiels d’action ou des champs locaux. En revanche, les signaux extracrâniens sont fortement atténués, issus de la sommation de millions de neurones et déformés par les tissus du crâne. Ils sont aussi contaminés par de nombreux artéfacts. L’analyse exige donc des traitements avancés (filtrage, correction, modélisation) et la résolution du problème inverse (retrouver les sources cérébrales à partir de mesures incomplètes et ambiguës, qui est un problème mathématiquement mal posé)."
   ]
  },
  {
   "cell_type": "markdown",
   "id": "09521e23-e73e-4c0b-836f-056959be5764",
   "metadata": {},
   "source": [
    "### Généralistes\n",
    "\n",
    "- [Python in neuroscience](https://www.frontiersin.org/journals/neuroinformatics/articles/10.3389/fninf.2015.00011/full)\n",
    "E. Muller, J. A. Bednar, M. Diesmann, M.-O. Gewaltig, M. Hines, and A. P. Davison\n",
    "Frontiers in Neuroinformatics, 9, 2015. **Date un peu**\n",
    "\n",
    "- [Case Studies in Neural Data Analysis](https://mitpress.ublish.com/book/case-studies-neural-data-analysis) 2016. Le livre présente des outils matlab, mais il y a un [git](https://github.com/Mark-Kramer/Case-Studies-Kramer-Eden) associé pour Python. Le livre traite essentiellement de données extracrâniennes, sauf le Ch. 8 *Basic Visualizations and Descriptive Statistics of SpikeTrainData*.\n",
    "\n",
    "- [https://neuraldatascience.io/](https://neuraldatascience.io/) (2020-23) fait par [Aaron J. Newman](https://www.dal.ca/faculty/science/psychology_neuroscience/faculty-staff/our-faculty/aaron-newman.html) du [NeuroCognitive Imaging Lab](https://www.ncilab.ca) (Dalhousie University in Halifax). Part de 0, notamment en Python. Une section en [https://neuraldatascience.io/6-single_unit/introduction.html](Single Unit Data). Voir le [github](https://github.com/neural-data-science/NESC_3505_textbook) du jupyter book et la chaine youtube [Neural Data Science with Python](https://www.youtube.com/playlist?list=PLtfEWMIgWS22MMZjPIzBRE2cHhMcvEKwp). **3 ans**.\n",
    "\n",
    "- *Neural Data Science. A Primer with MATLAB and Python*, Erik Lee Nylen and Pascal Wallisch, 2017. Voir la [table des matières](https://www.sciencedirect.com/book/9780128040430/neural-data-science), on trouve un PDF [ici](http://103.203.175.90:81/fdScript/RootOfEBooks/E%20Book%20collection%20-%202024%20-%20D/CSE%20%20IT%20AIDS%20ML/NEURAL%20DATA.pdf).\n",
    "\n"
   ]
  },
  {
   "cell_type": "markdown",
   "id": "661f2f9a-05c4-4fa8-8e71-2751c3b587c7",
   "metadata": {},
   "source": [
    "### Électrophyliologie M/EEG"
   ]
  },
  {
   "cell_type": "markdown",
   "id": "080b5426-5fa4-4cd0-9e95-a3c9a9fbde91",
   "metadata": {},
   "source": [
    "### Électrophyliologie \"directe\""
   ]
  },
  {
   "cell_type": "markdown",
   "id": "ffc27a4a-9804-438e-84e2-bb5dd4e8ef34",
   "metadata": {},
   "source": [
    "## Électrophyliologie\n",
    "\n",
    "\n",
    "## Analyse de trains de spikes et de mesures d'électrophysiologie\n",
    "\n",
    "\n",
    "#### Des références\n",
    "\n",
    "\n",
    "- [Systems Neuroscience Computing in Python (SyNCoPy): a python package for large-scale analysis of electrophysiological data](https://www.frontiersin.org/journals/neuroinformatics/articles/10.3389/fninf.2024.1448161/full) Systems Neuroscience Computing in Python (SyNCoPy), 2024\n",
    "\n",
    "\n",
    "\n",
    "\n",
    "#### Des outils Python\n",
    "\n",
    "- [pynapple](https://pynapple.org): python neural analysis package. Pynapple is a light-weight python library for neurophysiological data analysis, voir l'article [Pynapple, a toolbox for data analysis in neuroscience](https://elifesciences.org/reviewed-preprints/85786) 2023.\n",
    "\n",
    "- [osl-ephys](https://osl-ephys.readthedocs.io/en/latest/) of the [Oxford Centre for Human Brain Activity Analysis Group](https://www.psych.ox.ac.uk/research/ohba-analysis-group) avec ce [git](https://github.com/OHBA-analysis/OHBA-Examples/tree/main) et ce papier de 2025: [osl-ephys: a Python toolbox for the analysis of electrophysiology data](https://www.frontiersin.org/journals/neuroscience/articles/10.3389/fnins.2025.1522675/full). Attention, il s'agit de données **M/EEG [Magnétoencéphalographie (MEG) + Électroencéphalographie (EEG)].** XXX est construit sur le [package MNE](https://mne.tools/stable/index.html) (Open-source Python package for exploring, visualizing, and analyzing human neurophysiological data: MEG, EEG, sEEG, ECoG, NIRS, and more).\n",
    "\n",
    "\n",
    "- [NeuralEnsemble](http://neuralensemble.org)  is a community-based initiative to promote and co-ordinate open-source software development in neuroscience. **En sommeil depuis 2022**.\n",
    "\n",
    "suivre ce gars: [Christophe Pouzat](https://xtof.perso.math.cnrs.fr) son [github](https://github.com/christophe-pouzat), son [gitlab](https://gitlab.com/c_pouzat), son [plmlab](https://plmlab.math.cnrs.fr/xtof), il pointe des datasets:\n",
    "\n",
    "Tetrode recording from the antennal lobe of a locust (Schistocerca americana) (doi: 10.5281/zenodo.14607).\n",
    "Dataset from \"Matthieu Delescluse and Christophe Pouzat (2006) Efficient spike-sorting of multi-state neurons using inter-spike intervals information Journal of Neuroscience Methods 150: 16-29.\" (doi: 10.5281/zenodo.15228).\n",
    "Data set from Pouzat and Chaffiol (2009) Journal of Neuroscience Methods 181:119.(doi: 10.5281/zenodo.14281).\n",
    "All my postdoc extracellular recordings from the locust olfactory pathway are now available –a third of the data has been lost due to CD corruption after 14 years!– (doi: 10.5281/zenodo.21589). There are roughly 15 GB of data from 14 experiments. A detailed description of the sorting of these data set is available on GitHub. du même voir aussi [Probabilistic Spiking Neuronal Nets: Companion](https://probabilistic-spiking-neuronal-nets-c-pouzat-491a1ca82ffec5679d.gitlab.io/index.html)"
   ]
  },
  {
   "cell_type": "markdown",
   "id": "34345ec3-4e2e-496e-bd95-5336b2a20238",
   "metadata": {},
   "source": []
  },
  {
   "cell_type": "markdown",
   "id": "8b85e692-d0fa-41cf-917f-0bef02f1594d",
   "metadata": {},
   "source": []
  }
 ],
 "metadata": {
  "kernelspec": {
   "display_name": "Python 3 (ipykernel)",
   "language": "python",
   "name": "python3"
  },
  "language_info": {
   "codemirror_mode": {
    "name": "ipython",
    "version": 3
   },
   "file_extension": ".py",
   "mimetype": "text/x-python",
   "name": "python",
   "nbconvert_exporter": "python",
   "pygments_lexer": "ipython3",
   "version": "3.13.7"
  }
 },
 "nbformat": 4,
 "nbformat_minor": 5
}
